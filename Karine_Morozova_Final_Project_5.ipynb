{
  "nbformat": 4,
  "nbformat_minor": 0,
  "metadata": {
    "colab": {
      "provenance": []
    },
    "kernelspec": {
      "name": "python3",
      "display_name": "Python 3"
    },
    "language_info": {
      "name": "python"
    }
  },
  "cells": [
    {
      "cell_type": "code",
      "execution_count": 1,
      "metadata": {
        "colab": {
          "base_uri": "https://localhost:8080/"
        },
        "id": "-2DVj6K6ukfj",
        "outputId": "55dbe7df-b1ab-498e-96bf-fd461f949e49"
      },
      "outputs": [
        {
          "output_type": "stream",
          "name": "stdout",
          "text": [
            "Mounted at /content/drive\n"
          ]
        }
      ],
      "source": [
        "from google.colab import drive\n",
        "import pandas as pd\n",
        "\n",
        "drive.mount('/content/drive')"
      ]
    },
    {
      "cell_type": "code",
      "source": [
        "file_path = '/content/drive/My Drive/product_analytics'\n",
        "df_test = pd.read_csv(f'{file_path}/test_group.csv', sep=';')\n",
        "df_control = pd.read_csv(f'{file_path}/control_group.csv', sep=';')"
      ],
      "metadata": {
        "id": "BYmTFX3e9ggT"
      },
      "execution_count": 2,
      "outputs": []
    },
    {
      "cell_type": "code",
      "source": [
        "import numpy as np\n",
        "from scipy.stats import norm\n",
        "\n",
        "# Видаляємо можливі пропуски в потрібних колонках\n",
        "df_control = df_control.dropna(subset=[\"# of Add to Cart\", \"# of Purchase\"])\n",
        "df_test = df_test.dropna(subset=[\"# of Add to Cart\", \"# of Purchase\"])\n",
        "\n",
        "# Підрахунок загальної кількості доданих до кошика та покупок\n",
        "control_cart = df_control[\"# of Add to Cart\"].sum()\n",
        "control_purchase = df_control[\"# of Purchase\"].sum()\n",
        "\n",
        "test_cart = df_test[\"# of Add to Cart\"].sum()\n",
        "test_purchase = df_test[\"# of Purchase\"].sum()\n",
        "\n",
        "# Конверсії\n",
        "control_cr = control_purchase / control_cart\n",
        "test_cr = test_purchase / test_cart\n",
        "\n",
        "# Різниця конверсій\n",
        "diff = test_cr - control_cr\n",
        "\n",
        "# Стандартна похибка різниці конверсій\n",
        "se = np.sqrt((control_cr * (1 - control_cr)) / control_cart +\n",
        "             (test_cr * (1 - test_cr)) / test_cart)\n",
        "\n",
        "# 95% довірчий інтервал\n",
        "z_score = norm.ppf(0.975)\n",
        "ci_lower = diff - z_score * se\n",
        "ci_upper = diff + z_score * se\n",
        "\n",
        "# Вивід результатів\n",
        "print(f\"Control conversion: {control_cr:.2%}\")\n",
        "print(f\"Test conversion: {test_cr:.2%}\")\n",
        "print(f\"Difference in conversion: {diff:.2%}\")\n",
        "print(f\"95% Confidence Interval: [{ci_lower:.2%}, {ci_upper:.2%}]\")\n"
      ],
      "metadata": {
        "colab": {
          "base_uri": "https://localhost:8080/"
        },
        "id": "a8LZh59t9svh",
        "outputId": "386aa4a6-4063-47ea-83ac-e3df39566880"
      },
      "execution_count": 3,
      "outputs": [
        {
          "output_type": "stream",
          "name": "stdout",
          "text": [
            "Control conversion: 40.21%\n",
            "Test conversion: 59.13%\n",
            "Difference in conversion: 18.91%\n",
            "95% Confidence Interval: [18.14%, 19.69%]\n"
          ]
        }
      ]
    },
    {
      "cell_type": "code",
      "source": [],
      "metadata": {
        "id": "Ny5GBvEo-KBB"
      },
      "execution_count": null,
      "outputs": []
    }
  ]
}